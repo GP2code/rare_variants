{
 "cells": [
  {
   "cell_type": "code",
   "execution_count": 1,
   "metadata": {},
   "outputs": [
    {
     "name": "stdout",
     "output_type": "stream",
     "text": [
      "[-] Unloading plink  1.9.0-beta4.4  on cn4245 \n",
      "[+] Loading plink  2.0_alpha_1_final \n",
      "\n",
      "The following have been reloaded with a version change:\n",
      "  1) plink/1.9.0-beta4.4 => plink/2.0_alpha_1_final\n",
      "\n"
     ]
    }
   ],
   "source": [
    "import pandas as pd\n",
    "from os import chdir, path\n",
    "import subprocess\n",
    "import glob\n",
    "import matplotlib.pyplot as plt\n",
    "from functools import reduce\n",
    "import itertools\n",
    "import seaborn as sns\n",
    "import matplotlib.pyplot as plt\n",
    "import numpy as np\n",
    "!module load plink/2.0_alpha_1_final\n",
    "# local import (Hirotaka's myfunctions.py script)\n",
    "import myfunctions as myfunc"
   ]
  },
  {
   "cell_type": "code",
   "execution_count": 2,
   "metadata": {},
   "outputs": [
    {
     "name": "stdout",
     "output_type": "stream",
     "text": [
      "mkdir: cannot create directory 'temp4': File exists\n"
     ]
    }
   ],
   "source": [
    "!mkdir temp4\n",
    "chdir('temp4')"
   ]
  },
  {
   "cell_type": "code",
   "execution_count": 3,
   "metadata": {},
   "outputs": [],
   "source": [
    "# Get the id file, covariate file (all European)\n",
    "# wgsfolder = '/data/CARD/PD/GENOMES/august19/genotypes'\n",
    "idfile = '_keep.id'\n",
    "\n",
    "#this is just for larger cohort####\n",
    "wgsfolder = '/data/CARD/PD/WGS/june2019'\n",
    "df = pd.read_csv('/data/CARD/PD/WGS/june2019/pd.june2019.chr1.freeze9.sqc.psam', sep='\\t')\n",
    "df['pheno'] = [1 if i=='pd' else 0 for i in df.DX]\n",
    "df[['#FID', 'IID', 'pheno']].to_csv(idfile, index=False, sep='\\t', header=None)\n",
    "######\n",
    "\n",
    "# demog = pd.read_csv('/data/LNG/iwakih2/ampPD/data1_out/PP_PD_BF_HB_LC_demog.csv')\n",
    "# euro = pd.read_csv(f'/data/CARD/PD/GENOMES/august19/genotypes/PCA_filtered_europeans.txt', sep=' ',\n",
    "#                   header=None, names=['FID', 'IID'])\n",
    "# df = pd.merge(demog, euro, left_on='WGSID', right_on='IID')\n",
    "# df['FID'] = df.WGSID\n",
    "# df['IID'] = df.WGSID\n",
    "# df.RECRUIT=['CTR' if i=='HC' else i for i in df.RECRUIT]\n",
    "# df = df[df.RECRUIT.isin(['CTR', 'PD'])]\n",
    "# df = df[df.RECRUIT==df.LASTDIAG]\n",
    "# df['pheno'] = [1 if i=='PD' else 0 for i in df.RECRUIT]\n",
    "# df['AAD'] = df.AADi.where(df.pheno==0, other=df.AAOi)\n",
    "# df['AGE'] = df.AGEatBL.where(df.pheno==0, other=df.AAD)\n",
    "\n",
    "# df[['FID', 'IID', 'pheno']].to_csv(idfile, index=False, sep='\\t', header=None)\n",
    "# df[['FID', 'IID', 'AGE', 'FEMALE']].to_csv('_qcovar.txt', index=False, sep='\\t', header=None)"
   ]
  },
  {
   "cell_type": "code",
   "execution_count": null,
   "metadata": {},
   "outputs": [],
   "source": []
  },
  {
   "cell_type": "code",
   "execution_count": 5,
   "metadata": {},
   "outputs": [
    {
     "data": {
      "text/html": [
       "<div>\n",
       "<style scoped>\n",
       "    .dataframe tbody tr th:only-of-type {\n",
       "        vertical-align: middle;\n",
       "    }\n",
       "\n",
       "    .dataframe tbody tr th {\n",
       "        vertical-align: top;\n",
       "    }\n",
       "\n",
       "    .dataframe thead th {\n",
       "        text-align: right;\n",
       "    }\n",
       "</style>\n",
       "<table border=\"1\" class=\"dataframe\">\n",
       "  <thead>\n",
       "    <tr style=\"text-align: right;\">\n",
       "      <th></th>\n",
       "      <th>#FID</th>\n",
       "      <th>IID</th>\n",
       "      <th>SEX</th>\n",
       "      <th>DX</th>\n",
       "      <th>pheno</th>\n",
       "    </tr>\n",
       "  </thead>\n",
       "  <tbody>\n",
       "    <tr>\n",
       "      <th>0</th>\n",
       "      <td>BF-1101</td>\n",
       "      <td>BF-1101</td>\n",
       "      <td>2</td>\n",
       "      <td>pd</td>\n",
       "      <td>1</td>\n",
       "    </tr>\n",
       "    <tr>\n",
       "      <th>1</th>\n",
       "      <td>BF-1102</td>\n",
       "      <td>BF-1102</td>\n",
       "      <td>1</td>\n",
       "      <td>pd</td>\n",
       "      <td>1</td>\n",
       "    </tr>\n",
       "    <tr>\n",
       "      <th>2</th>\n",
       "      <td>BF-1001</td>\n",
       "      <td>BF-1001</td>\n",
       "      <td>1</td>\n",
       "      <td>control</td>\n",
       "      <td>0</td>\n",
       "    </tr>\n",
       "    <tr>\n",
       "      <th>3</th>\n",
       "      <td>BF-1201</td>\n",
       "      <td>BF-1201</td>\n",
       "      <td>2</td>\n",
       "      <td>pd</td>\n",
       "      <td>1</td>\n",
       "    </tr>\n",
       "    <tr>\n",
       "      <th>4</th>\n",
       "      <td>BF-1002</td>\n",
       "      <td>BF-1002</td>\n",
       "      <td>2</td>\n",
       "      <td>pd</td>\n",
       "      <td>1</td>\n",
       "    </tr>\n",
       "  </tbody>\n",
       "</table>\n",
       "</div>"
      ],
      "text/plain": [
       "      #FID      IID  SEX       DX  pheno\n",
       "0  BF-1101  BF-1101    2       pd      1\n",
       "1  BF-1102  BF-1102    1       pd      1\n",
       "2  BF-1001  BF-1001    1  control      0\n",
       "3  BF-1201  BF-1201    2       pd      1\n",
       "4  BF-1002  BF-1002    2       pd      1"
      ]
     },
     "execution_count": 5,
     "metadata": {},
     "output_type": "execute_result"
    }
   ],
   "source": [
    "df.head()"
   ]
  },
  {
   "cell_type": "code",
   "execution_count": 10,
   "metadata": {},
   "outputs": [],
   "source": [
    "# used this to generate pca for chr1 just for testing purposes-- prune and merge all chrs first then run PCA\n",
    "with open('_pca.swarm', 'w') as f:\n",
    "    for chrnum in range(1,2):\n",
    "#         pfile = f'{wgsfolder}/pd.june2019.chr{chrnum}.sqc'\n",
    "        pfile = f'{wgsfolder}/pd.june2019.chr{chrnum}.freeze9.sqc'\n",
    "        out_pcs = f'chr{chrnum}.pca'\n",
    "        plink_pca_cmd = f'\\\n",
    "plink2 --pfile {pfile}\\\n",
    " --pca 80\\\n",
    " --out {out_pcs}\\n'\n",
    "#         myfunc.shell_do(plink_pca_cmd)\n",
    "        f.write(plink_pca_cmd)\n",
    "#         print(plink_pca_cmd)"
   ]
  },
  {
   "cell_type": "code",
   "execution_count": 11,
   "metadata": {},
   "outputs": [
    {
     "name": "stdout",
     "output_type": "stream",
     "text": [
      "63468668\n"
     ]
    }
   ],
   "source": [
    "!swarm -f _pca.swarm -g 64 --time=10:00:00 -t 20 --logdir swarm --module plink/2.0_alpha_1_final --partition=norm"
   ]
  },
  {
   "cell_type": "code",
   "execution_count": 12,
   "metadata": {},
   "outputs": [],
   "source": [
    "# now cut up pca for reml\n",
    "pca = pd.read_csv('chr1.pca.eigenvec', sep='\\t')\n",
    "pca20 = pca.iloc[:,0:22]\n",
    "pca40 = pca.iloc[:,0:42]\n",
    "pca80 = pca.iloc[:,0:82]\n",
    "pca20.to_csv('chr1.pca.20.eigenvec', sep='\\t',header=None,index=None)\n",
    "pca40.to_csv('chr1.pca.40.eigenvec', sep='\\t',header=None,index=None)\n",
    "pca80.to_csv('chr1.pca.80.eigenvec', sep='\\t',header=None,index=None)"
   ]
  },
  {
   "cell_type": "code",
   "execution_count": 15,
   "metadata": {},
   "outputs": [],
   "source": [
    "with open('_script1.swarm', 'w') as f:\n",
    "    for chrnum in range(1,23):\n",
    "#         pfile = f'{wgsfolder}/pd.june2019.chr{chrnum}.sqc'\n",
    "        pfile = f'{wgsfolder}/pd.june2019.chr{chrnum}.freeze9.sqc'\n",
    "        freqfile = f'freq.{chrnum}'\n",
    "        plinkcmd = f\"\\\n",
    "plink2 --pfile {pfile}\\\n",
    " --keep {idfile} \\\n",
    " --freq \\\n",
    " --out {freqfile}\\n\"\n",
    "        f.write(plinkcmd)\n",
    "#         myfunc.shell_do(plinkcmd)\n",
    "    f.close()"
   ]
  },
  {
   "cell_type": "code",
   "execution_count": 16,
   "metadata": {},
   "outputs": [
    {
     "name": "stdout",
     "output_type": "stream",
     "text": [
      "63471415\n"
     ]
    }
   ],
   "source": [
    "!swarm -f _script1.swarm -g 64 --time=10:00:00 -t 20 --logdir swarm --module plink/2.0_alpha_1_final --partition=norm"
   ]
  },
  {
   "cell_type": "code",
   "execution_count": 13,
   "metadata": {},
   "outputs": [],
   "source": [
    "# now, create grm per chr to make baseline heritability calculation\n",
    "\n",
    "with open('_baseline_h2_script.swarm', 'w') as f:\n",
    "    for chrnum in range(1,23):\n",
    "#         pfile = f'{wgsfolder}/pd.june2019.chr{chrnum}.sqc'\n",
    "        pfile = f'{wgsfolder}/pd.june2019.chr{chrnum}.freeze9.sqc'\n",
    "        freqfile = f'freq.{chrnum}'\n",
    "        plink_out = f'chr{chrnum}'\n",
    "        \n",
    "        plinkcmd = f\"\\\n",
    "plink2 --pfile {pfile}\\\n",
    " --make-bed\\\n",
    " --out {plink_out}\"\n",
    "        \n",
    "        gctacmd = f'\\\n",
    "gcta64 --bfile {plink_out}\\\n",
    " --chr {chrnum}\\\n",
    " --make-grm\\\n",
    " --out {plink_out}'\n",
    "        \n",
    "        f.write(f'{plinkcmd} && {gctacmd}\\n')\n",
    "    f.close()"
   ]
  },
  {
   "cell_type": "code",
   "execution_count": 14,
   "metadata": {},
   "outputs": [
    {
     "name": "stdout",
     "output_type": "stream",
     "text": [
      "63679153\n"
     ]
    }
   ],
   "source": [
    "!swarm -f _baseline_h2_script.swarm -g 64 --time=10:00:00 -t 20 --logdir swarm --module plink/2.0_alpha_1_final --partition=norm"
   ]
  },
  {
   "cell_type": "code",
   "execution_count": 21,
   "metadata": {},
   "outputs": [],
   "source": [
    "with open('_baseline_grms.txt', 'w') as f:\n",
    "    for chrnum in range(1,23):\n",
    "        chrfile = f'chr{chrnum}'\n",
    "        f.write(f'{chrfile}\\n')\n",
    "    f.close()\n"
   ]
  },
  {
   "cell_type": "code",
   "execution_count": 24,
   "metadata": {},
   "outputs": [
    {
     "name": "stderr",
     "output_type": "stream",
     "text": [
      "Executing: gcta64 --mgrm _baseline_grms.txt --make-grm --out baseline_grm\n"
     ]
    }
   ],
   "source": [
    "gcta_grm_merge_cmd = 'gcta64 --mgrm _baseline_grms.txt --make-grm --out baseline_grm'\n",
    "myfunc.shell_do(gcta_grm_merge_cmd)"
   ]
  },
  {
   "cell_type": "code",
   "execution_count": 25,
   "metadata": {},
   "outputs": [],
   "source": [
    "with open('_baseline_reml.swarm', 'w') as f:\n",
    "    gcta_baseline_reml_cmd = f'\\\n",
    "gcta64 --grm baseline_grm\\\n",
    " --reml\\\n",
    " --pheno {idfile}\\\n",
    " --qcovar chr1.pca.20.eigenvec\\\n",
    " --out baseline_reml\\\n",
    " --thread-num 10'\n",
    "    f.write(gcta_baseline_reml_cmd)\n",
    "    f.close\n"
   ]
  },
  {
   "cell_type": "code",
   "execution_count": 26,
   "metadata": {},
   "outputs": [
    {
     "name": "stdout",
     "output_type": "stream",
     "text": [
      "63693007\n"
     ]
    }
   ],
   "source": [
    "!swarm -f _baseline_reml.swarm --time=80:00:00 -g 64 -t 64 --logdir swarm --module plink/2.0_alpha_1_final --partition=norm"
   ]
  },
  {
   "cell_type": "code",
   "execution_count": 7,
   "metadata": {},
   "outputs": [],
   "source": [
    "from dask.distributed import Client, progress\n",
    "# client should match the qued number of threads\n",
    "client = Client(processes=False, threads_per_worker=2,\n",
    "                n_workers=2, memory_limit='30GB')\n",
    "import dask\n",
    "import dask.dataframe as dd\n",
    "\n",
    "def MAFbin(x):\n",
    "    if x>0.075:\n",
    "        if x<0.3:\n",
    "            return(1)\n",
    "        else:\n",
    "            return(2)\n",
    "    else:\n",
    "        return(0)\n",
    "\n",
    "\n",
    "# def MAFbin(x):\n",
    "#     if x>0.05:\n",
    "#         if x<0.25:\n",
    "#             return(1)\n",
    "#         else:\n",
    "#             return(2)\n",
    "#     else:\n",
    "#         return(0)\n",
    "\n",
    "\n",
    "\n",
    "\n",
    "\n",
    "\n",
    "\n",
    "# testing out just 2 maf bins\n",
    "# def MAFbin(x):\n",
    "#     if x>0:\n",
    "#         if x<0.01:\n",
    "#             return(1)\n",
    "#         else:\n",
    "#             return(2)\n",
    "#     else:\n",
    "#         return(0)\n",
    "\n",
    "\n",
    "\n",
    "\n",
    "#try testing fewer maf bins\n",
    "# def MAFbin(x):\n",
    "#     if x>0:\n",
    "#         if x<0.001:\n",
    "#             return(1)\n",
    "#         elif x<0.01:\n",
    "#             return(2)\n",
    "#         elif x<0.1:\n",
    "#             return(3)\n",
    "#         elif x<0.25:\n",
    "#             return(4)\n",
    "#         elif x<0.5:\n",
    "#             return(5)\n",
    "#         else:\n",
    "#             return(6)\n",
    "#     else:\n",
    "#         return(0)\n",
    "\n",
    "\n",
    "\n",
    "# def MAFbin(x):\n",
    "#     if x>0:\n",
    "#         if x<0.001:\n",
    "#             return(1)\n",
    "#         elif x<0.01:\n",
    "#             return(2)\n",
    "#         elif x<0.1:\n",
    "#             return(3)\n",
    "#         elif x<0.2:\n",
    "#             return(4)\n",
    "#         elif x<0.3:\n",
    "#             return(5)\n",
    "#         elif x<0.4:\n",
    "#             return(6)\n",
    "#         else:\n",
    "#             return(7)\n",
    "#     else:\n",
    "#         return(0)\n",
    "\n"
   ]
  },
  {
   "cell_type": "code",
   "execution_count": null,
   "metadata": {},
   "outputs": [],
   "source": [
    "# client.close()"
   ]
  },
  {
   "cell_type": "code",
   "execution_count": 18,
   "metadata": {},
   "outputs": [
    {
     "name": "stdout",
     "output_type": "stream",
     "text": [
      "chr1 finished\n",
      "chr2 finished\n",
      "chr3 finished\n",
      "chr4 finished\n",
      "chr5 finished\n",
      "chr6 finished\n",
      "chr7 finished\n",
      "chr8 finished\n",
      "chr9 finished\n",
      "chr10 finished\n",
      "chr11 finished\n",
      "chr12 finished\n",
      "chr13 finished\n",
      "chr14 finished\n",
      "chr15 finished\n",
      "chr16 finished\n",
      "chr17 finished\n",
      "chr18 finished\n",
      "chr19 finished\n",
      "chr20 finished\n",
      "chr21 finished\n",
      "chr22 finished\n"
     ]
    }
   ],
   "source": [
    "# total_counts_df = pd.DataFrame(index=[0,1,2,3,4,5,6])\n",
    "#test for 2 maf bins\n",
    "total_counts_df = pd.DataFrame(index=[0,1,2])\n",
    "\n",
    "for chrnum in range(1,23):\n",
    "    freqfile = f'freq.{chrnum}'\n",
    "\n",
    "    df = dd.read_csv(f'{freqfile}.afreq', sep='\\t')\n",
    "    df['MAF'] = df.ALT_FREQS.where(cond=df.ALT_FREQS<=0.5, other=1-df.ALT_FREQS)\n",
    "    df['Group'] = df.MAF.apply(MAFbin, meta=('MAF', 'float64'))\n",
    "    for i in range(1,3):\n",
    "        df.loc[df.Group==i, ['ID']].to_csv(\n",
    "            f'{freqfile}.mafbin{i}', index=False, single_file=True)\n",
    "    print(f'chr{chrnum} finished')\n",
    "    total_counts_df[chrnum] = pd.DataFrame(df.groupby('Group').ID.count().compute())\n",
    "#     total_counts_df.merge(counts_df, left_index=True)"
   ]
  },
  {
   "cell_type": "code",
   "execution_count": 19,
   "metadata": {},
   "outputs": [
    {
     "data": {
      "text/html": [
       "<div>\n",
       "<style scoped>\n",
       "    .dataframe tbody tr th:only-of-type {\n",
       "        vertical-align: middle;\n",
       "    }\n",
       "\n",
       "    .dataframe tbody tr th {\n",
       "        vertical-align: top;\n",
       "    }\n",
       "\n",
       "    .dataframe thead th {\n",
       "        text-align: right;\n",
       "    }\n",
       "</style>\n",
       "<table border=\"1\" class=\"dataframe\">\n",
       "  <thead>\n",
       "    <tr style=\"text-align: right;\">\n",
       "      <th></th>\n",
       "      <th>chr1</th>\n",
       "      <th>chr2</th>\n",
       "      <th>chr3</th>\n",
       "      <th>chr4</th>\n",
       "      <th>chr5</th>\n",
       "      <th>chr6</th>\n",
       "      <th>chr7</th>\n",
       "      <th>chr8</th>\n",
       "      <th>chr9</th>\n",
       "      <th>chr10</th>\n",
       "      <th>...</th>\n",
       "      <th>chr14</th>\n",
       "      <th>chr15</th>\n",
       "      <th>chr16</th>\n",
       "      <th>chr17</th>\n",
       "      <th>chr18</th>\n",
       "      <th>chr19</th>\n",
       "      <th>chr20</th>\n",
       "      <th>chr21</th>\n",
       "      <th>chr22</th>\n",
       "      <th>total</th>\n",
       "    </tr>\n",
       "    <tr>\n",
       "      <th>bin</th>\n",
       "      <th></th>\n",
       "      <th></th>\n",
       "      <th></th>\n",
       "      <th></th>\n",
       "      <th></th>\n",
       "      <th></th>\n",
       "      <th></th>\n",
       "      <th></th>\n",
       "      <th></th>\n",
       "      <th></th>\n",
       "      <th></th>\n",
       "      <th></th>\n",
       "      <th></th>\n",
       "      <th></th>\n",
       "      <th></th>\n",
       "      <th></th>\n",
       "      <th></th>\n",
       "      <th></th>\n",
       "      <th></th>\n",
       "      <th></th>\n",
       "      <th></th>\n",
       "    </tr>\n",
       "  </thead>\n",
       "  <tbody>\n",
       "    <tr>\n",
       "      <th>&lt;0.075</th>\n",
       "      <td>10464541</td>\n",
       "      <td>11349494</td>\n",
       "      <td>9377560</td>\n",
       "      <td>9097480</td>\n",
       "      <td>8492737</td>\n",
       "      <td>7963553</td>\n",
       "      <td>7543547</td>\n",
       "      <td>7301007</td>\n",
       "      <td>5732955</td>\n",
       "      <td>6325476</td>\n",
       "      <td>...</td>\n",
       "      <td>4148211</td>\n",
       "      <td>3807050</td>\n",
       "      <td>4280257</td>\n",
       "      <td>3729652</td>\n",
       "      <td>3648716</td>\n",
       "      <td>2850652</td>\n",
       "      <td>2937621</td>\n",
       "      <td>1681727</td>\n",
       "      <td>1771929</td>\n",
       "      <td>129826853</td>\n",
       "    </tr>\n",
       "    <tr>\n",
       "      <th>&lt;0.3</th>\n",
       "      <td>249217</td>\n",
       "      <td>276707</td>\n",
       "      <td>235289</td>\n",
       "      <td>243066</td>\n",
       "      <td>211354</td>\n",
       "      <td>222320</td>\n",
       "      <td>190846</td>\n",
       "      <td>178186</td>\n",
       "      <td>143255</td>\n",
       "      <td>168653</td>\n",
       "      <td>...</td>\n",
       "      <td>108681</td>\n",
       "      <td>88623</td>\n",
       "      <td>97052</td>\n",
       "      <td>86645</td>\n",
       "      <td>94801</td>\n",
       "      <td>73946</td>\n",
       "      <td>73507</td>\n",
       "      <td>44667</td>\n",
       "      <td>42471</td>\n",
       "      <td>3267368</td>\n",
       "    </tr>\n",
       "    <tr>\n",
       "      <th>&gt;=0.3</th>\n",
       "      <td>155045</td>\n",
       "      <td>163768</td>\n",
       "      <td>145778</td>\n",
       "      <td>148526</td>\n",
       "      <td>131686</td>\n",
       "      <td>136779</td>\n",
       "      <td>119413</td>\n",
       "      <td>110866</td>\n",
       "      <td>83593</td>\n",
       "      <td>101235</td>\n",
       "      <td>...</td>\n",
       "      <td>61187</td>\n",
       "      <td>57330</td>\n",
       "      <td>61228</td>\n",
       "      <td>54329</td>\n",
       "      <td>57460</td>\n",
       "      <td>42760</td>\n",
       "      <td>45550</td>\n",
       "      <td>29383</td>\n",
       "      <td>26798</td>\n",
       "      <td>2010314</td>\n",
       "    </tr>\n",
       "  </tbody>\n",
       "</table>\n",
       "<p>3 rows × 23 columns</p>\n",
       "</div>"
      ],
      "text/plain": [
       "            chr1      chr2     chr3     chr4     chr5     chr6     chr7  \\\n",
       "bin                                                                       \n",
       "<0.075  10464541  11349494  9377560  9097480  8492737  7963553  7543547   \n",
       "<0.3      249217    276707   235289   243066   211354   222320   190846   \n",
       ">=0.3     155045    163768   145778   148526   131686   136779   119413   \n",
       "\n",
       "           chr8     chr9    chr10  ...    chr14    chr15    chr16    chr17  \\\n",
       "bin                                ...                                       \n",
       "<0.075  7301007  5732955  6325476  ...  4148211  3807050  4280257  3729652   \n",
       "<0.3     178186   143255   168653  ...   108681    88623    97052    86645   \n",
       ">=0.3    110866    83593   101235  ...    61187    57330    61228    54329   \n",
       "\n",
       "          chr18    chr19    chr20    chr21    chr22      total  \n",
       "bin                                                             \n",
       "<0.075  3648716  2850652  2937621  1681727  1771929  129826853  \n",
       "<0.3      94801    73946    73507    44667    42471    3267368  \n",
       ">=0.3     57460    42760    45550    29383    26798    2010314  \n",
       "\n",
       "[3 rows x 23 columns]"
      ]
     },
     "execution_count": 19,
     "metadata": {},
     "output_type": "execute_result"
    }
   ],
   "source": [
    "# # add chr names\n",
    "chrs = ['chr' + str(i) for i in range(1,23)]\n",
    "total_counts_df.columns = chrs\n",
    "\n",
    "# add bins\n",
    "# bins = ['0.000', '<0.001', '<0.01', '<0.1', '<0.25', '<0.5', '=0.5']\n",
    "# bins = ['0.000', '<0.01', '>=0.01']\n",
    "bins = ['<0.075', '<0.3', '>=0.3']\n",
    "total_counts_df['bin'] = bins\n",
    "total_counts_df.set_index('bin', inplace=True)\n",
    "total_counts_df['total'] = total_counts_df.sum(axis=1)\n",
    "total_counts_df.to_csv('_maf_bin_counts.txt', sep='\\t')\n",
    "total_counts_df"
   ]
  },
  {
   "cell_type": "code",
   "execution_count": null,
   "metadata": {},
   "outputs": [],
   "source": [
    "# freqfile = f'freq.21'\n",
    "\n",
    "# df = pd.read_csv(f'{freqfile}.afreq', sep='\\t')\n",
    "# df['MAF'] = df.ALT_FREQS.where(cond=df.ALT_FREQS<=0.5, other=1-df.ALT_FREQS)\n"
   ]
  },
  {
   "cell_type": "code",
   "execution_count": null,
   "metadata": {},
   "outputs": [],
   "source": [
    "# df['Group'] = df.MAF.apply(MAFbin)\n",
    "# df.head()"
   ]
  },
  {
   "cell_type": "code",
   "execution_count": null,
   "metadata": {},
   "outputs": [],
   "source": [
    "# df[df.Group == 6].head()"
   ]
  },
  {
   "cell_type": "code",
   "execution_count": 20,
   "metadata": {},
   "outputs": [],
   "source": [
    "with open('_script2.swarm', 'w') as f:\n",
    "    for chrnum in range(1,23):\n",
    "#         pfile = f'{wgsfolder}/pd.june2019.chr{chrnum}.sqc'\n",
    "        pfile = f'{wgsfolder}/pd.june2019.chr{chrnum}.freeze9.sqc'\n",
    "        freqfile = f'freq.{chrnum}'\n",
    "        for Indx in range(1,3):\n",
    "            mafbinIndx = f'mafbin{Indx}'\n",
    "            mafbinfile =  f'{freqfile}.{mafbinIndx}'\n",
    "\n",
    "            plinkcmd = f\"\\\n",
    "plink2 --pfile {pfile}\\\n",
    " --extract {mafbinfile}\\\n",
    " --keep {idfile}\\\n",
    " --make-bed\\\n",
    " --out {mafbinfile}\"\n",
    "            gctacmd1 = f'\\\n",
    "gcta64 --bfile {mafbinfile}\\\n",
    " --ld-score-region 10000\\\n",
    " --out {mafbinfile}.ldbin\\\n",
    " --thread-num 10'\n",
    "\n",
    "            f.write(f'{plinkcmd} && {gctacmd1}\\n')"
   ]
  },
  {
   "cell_type": "code",
   "execution_count": 21,
   "metadata": {},
   "outputs": [
    {
     "name": "stdout",
     "output_type": "stream",
     "text": [
      "63475427\n"
     ]
    }
   ],
   "source": [
    "!swarm -f _script2.swarm --time=40:00:00 -g 64 -t 64 --logdir swarm --module GCTA,plink/2.0_alpha_1_final --partition=norm"
   ]
  },
  {
   "cell_type": "code",
   "execution_count": 22,
   "metadata": {},
   "outputs": [],
   "source": [
    "# need to rerun for jobs that were killed\n",
    "outputs = glob.glob('freq.*.mafbin*.ldbin.score.ld')\n",
    "# len(glob.glob('*.ldbin.log'))\n",
    "expected_out = ['freq.' + str(i) + '.mafbin' + str(j) + '.ldbin.score.ld' for i in range(1,23) for j in range(1,3)]\n",
    "missing = [bed.replace('.ldbin.score.ld', '') for bed in list(set(expected_out) - set(outputs))]\n",
    "\n",
    "with open('_rerunscript.swarm', 'w') as f:\n",
    "    for mafbinfile in missing:\n",
    "        gctacmd1 = f'\\\n",
    "gcta64 --bfile {mafbinfile}\\\n",
    " --ld-score-region 10000\\\n",
    " --out {mafbinfile}.ldbin\\\n",
    " --thread-num 10'\n",
    "\n",
    "        f.write(f'{gctacmd1}\\n')"
   ]
  },
  {
   "cell_type": "code",
   "execution_count": 23,
   "metadata": {},
   "outputs": [
    {
     "name": "stdout",
     "output_type": "stream",
     "text": [
      "ERROR: No commands in swarmfile _rerunscript.swarm\n"
     ]
    }
   ],
   "source": [
    "!swarm -f _rerunscript.swarm --time=40:00:00 -g 64 -t 10 --logdir swarm --module GCTA --partition=norm"
   ]
  },
  {
   "cell_type": "code",
   "execution_count": 8,
   "metadata": {},
   "outputs": [
    {
     "name": "stderr",
     "output_type": "stream",
     "text": [
      "Executing: gcta64 --bfile freq.1.mafbin1 --extract freq.1.mafbin1.ldbin1 --make-grm --out freq.1.mafbin1.ldbin1\n",
      "Executing: gcta64 --bfile freq.1.mafbin1 --extract freq.1.mafbin1.ldbin2 --make-grm --out freq.1.mafbin1.ldbin2\n",
      "Executing: gcta64 --bfile freq.1.mafbin2 --extract freq.1.mafbin2.ldbin1 --make-grm --out freq.1.mafbin2.ldbin1\n",
      "Executing: gcta64 --bfile freq.1.mafbin2 --extract freq.1.mafbin2.ldbin2 --make-grm --out freq.1.mafbin2.ldbin2\n",
      "Executing: gcta64 --bfile freq.2.mafbin1 --extract freq.2.mafbin1.ldbin1 --make-grm --out freq.2.mafbin1.ldbin1\n",
      "Executing: gcta64 --bfile freq.2.mafbin1 --extract freq.2.mafbin1.ldbin2 --make-grm --out freq.2.mafbin1.ldbin2\n",
      "Executing: gcta64 --bfile freq.2.mafbin2 --extract freq.2.mafbin2.ldbin1 --make-grm --out freq.2.mafbin2.ldbin1\n",
      "Executing: gcta64 --bfile freq.2.mafbin2 --extract freq.2.mafbin2.ldbin2 --make-grm --out freq.2.mafbin2.ldbin2\n",
      "Executing: gcta64 --bfile freq.3.mafbin1 --extract freq.3.mafbin1.ldbin1 --make-grm --out freq.3.mafbin1.ldbin1\n",
      "Executing: gcta64 --bfile freq.3.mafbin1 --extract freq.3.mafbin1.ldbin2 --make-grm --out freq.3.mafbin1.ldbin2\n",
      "Executing: gcta64 --bfile freq.3.mafbin2 --extract freq.3.mafbin2.ldbin1 --make-grm --out freq.3.mafbin2.ldbin1\n",
      "Executing: gcta64 --bfile freq.3.mafbin2 --extract freq.3.mafbin2.ldbin2 --make-grm --out freq.3.mafbin2.ldbin2\n",
      "Executing: gcta64 --bfile freq.4.mafbin1 --extract freq.4.mafbin1.ldbin1 --make-grm --out freq.4.mafbin1.ldbin1\n",
      "Executing: gcta64 --bfile freq.4.mafbin1 --extract freq.4.mafbin1.ldbin2 --make-grm --out freq.4.mafbin1.ldbin2\n",
      "Executing: gcta64 --bfile freq.4.mafbin2 --extract freq.4.mafbin2.ldbin1 --make-grm --out freq.4.mafbin2.ldbin1\n",
      "Executing: gcta64 --bfile freq.4.mafbin2 --extract freq.4.mafbin2.ldbin2 --make-grm --out freq.4.mafbin2.ldbin2\n",
      "Executing: gcta64 --bfile freq.5.mafbin1 --extract freq.5.mafbin1.ldbin1 --make-grm --out freq.5.mafbin1.ldbin1\n",
      "Executing: gcta64 --bfile freq.5.mafbin1 --extract freq.5.mafbin1.ldbin2 --make-grm --out freq.5.mafbin1.ldbin2\n",
      "Executing: gcta64 --bfile freq.5.mafbin2 --extract freq.5.mafbin2.ldbin1 --make-grm --out freq.5.mafbin2.ldbin1\n",
      "Executing: gcta64 --bfile freq.5.mafbin2 --extract freq.5.mafbin2.ldbin2 --make-grm --out freq.5.mafbin2.ldbin2\n",
      "Executing: gcta64 --bfile freq.6.mafbin1 --extract freq.6.mafbin1.ldbin1 --make-grm --out freq.6.mafbin1.ldbin1\n",
      "Executing: gcta64 --bfile freq.6.mafbin1 --extract freq.6.mafbin1.ldbin2 --make-grm --out freq.6.mafbin1.ldbin2\n",
      "Executing: gcta64 --bfile freq.6.mafbin2 --extract freq.6.mafbin2.ldbin1 --make-grm --out freq.6.mafbin2.ldbin1\n",
      "Executing: gcta64 --bfile freq.6.mafbin2 --extract freq.6.mafbin2.ldbin2 --make-grm --out freq.6.mafbin2.ldbin2\n",
      "Executing: gcta64 --bfile freq.7.mafbin1 --extract freq.7.mafbin1.ldbin1 --make-grm --out freq.7.mafbin1.ldbin1\n",
      "Executing: gcta64 --bfile freq.7.mafbin1 --extract freq.7.mafbin1.ldbin2 --make-grm --out freq.7.mafbin1.ldbin2\n",
      "Executing: gcta64 --bfile freq.7.mafbin2 --extract freq.7.mafbin2.ldbin1 --make-grm --out freq.7.mafbin2.ldbin1\n",
      "Executing: gcta64 --bfile freq.7.mafbin2 --extract freq.7.mafbin2.ldbin2 --make-grm --out freq.7.mafbin2.ldbin2\n",
      "Executing: gcta64 --bfile freq.8.mafbin1 --extract freq.8.mafbin1.ldbin1 --make-grm --out freq.8.mafbin1.ldbin1\n",
      "Executing: gcta64 --bfile freq.8.mafbin1 --extract freq.8.mafbin1.ldbin2 --make-grm --out freq.8.mafbin1.ldbin2\n",
      "Executing: gcta64 --bfile freq.8.mafbin2 --extract freq.8.mafbin2.ldbin1 --make-grm --out freq.8.mafbin2.ldbin1\n",
      "Executing: gcta64 --bfile freq.8.mafbin2 --extract freq.8.mafbin2.ldbin2 --make-grm --out freq.8.mafbin2.ldbin2\n",
      "Executing: gcta64 --bfile freq.9.mafbin1 --extract freq.9.mafbin1.ldbin1 --make-grm --out freq.9.mafbin1.ldbin1\n",
      "Executing: gcta64 --bfile freq.9.mafbin1 --extract freq.9.mafbin1.ldbin2 --make-grm --out freq.9.mafbin1.ldbin2\n",
      "Executing: gcta64 --bfile freq.9.mafbin2 --extract freq.9.mafbin2.ldbin1 --make-grm --out freq.9.mafbin2.ldbin1\n",
      "Executing: gcta64 --bfile freq.9.mafbin2 --extract freq.9.mafbin2.ldbin2 --make-grm --out freq.9.mafbin2.ldbin2\n",
      "Executing: gcta64 --bfile freq.10.mafbin1 --extract freq.10.mafbin1.ldbin1 --make-grm --out freq.10.mafbin1.ldbin1\n",
      "Executing: gcta64 --bfile freq.10.mafbin1 --extract freq.10.mafbin1.ldbin2 --make-grm --out freq.10.mafbin1.ldbin2\n",
      "Executing: gcta64 --bfile freq.10.mafbin2 --extract freq.10.mafbin2.ldbin1 --make-grm --out freq.10.mafbin2.ldbin1\n",
      "Executing: gcta64 --bfile freq.10.mafbin2 --extract freq.10.mafbin2.ldbin2 --make-grm --out freq.10.mafbin2.ldbin2\n",
      "Executing: gcta64 --bfile freq.11.mafbin1 --extract freq.11.mafbin1.ldbin1 --make-grm --out freq.11.mafbin1.ldbin1\n",
      "Executing: gcta64 --bfile freq.11.mafbin1 --extract freq.11.mafbin1.ldbin2 --make-grm --out freq.11.mafbin1.ldbin2\n",
      "Executing: gcta64 --bfile freq.11.mafbin2 --extract freq.11.mafbin2.ldbin1 --make-grm --out freq.11.mafbin2.ldbin1\n",
      "Executing: gcta64 --bfile freq.11.mafbin2 --extract freq.11.mafbin2.ldbin2 --make-grm --out freq.11.mafbin2.ldbin2\n",
      "Executing: gcta64 --bfile freq.12.mafbin1 --extract freq.12.mafbin1.ldbin1 --make-grm --out freq.12.mafbin1.ldbin1\n",
      "Executing: gcta64 --bfile freq.12.mafbin1 --extract freq.12.mafbin1.ldbin2 --make-grm --out freq.12.mafbin1.ldbin2\n",
      "Executing: gcta64 --bfile freq.12.mafbin2 --extract freq.12.mafbin2.ldbin1 --make-grm --out freq.12.mafbin2.ldbin1\n",
      "Executing: gcta64 --bfile freq.12.mafbin2 --extract freq.12.mafbin2.ldbin2 --make-grm --out freq.12.mafbin2.ldbin2\n",
      "Executing: gcta64 --bfile freq.13.mafbin1 --extract freq.13.mafbin1.ldbin1 --make-grm --out freq.13.mafbin1.ldbin1\n",
      "Executing: gcta64 --bfile freq.13.mafbin1 --extract freq.13.mafbin1.ldbin2 --make-grm --out freq.13.mafbin1.ldbin2\n",
      "Executing: gcta64 --bfile freq.13.mafbin2 --extract freq.13.mafbin2.ldbin1 --make-grm --out freq.13.mafbin2.ldbin1\n",
      "Executing: gcta64 --bfile freq.13.mafbin2 --extract freq.13.mafbin2.ldbin2 --make-grm --out freq.13.mafbin2.ldbin2\n",
      "Executing: gcta64 --bfile freq.14.mafbin1 --extract freq.14.mafbin1.ldbin1 --make-grm --out freq.14.mafbin1.ldbin1\n",
      "Executing: gcta64 --bfile freq.14.mafbin1 --extract freq.14.mafbin1.ldbin2 --make-grm --out freq.14.mafbin1.ldbin2\n",
      "Executing: gcta64 --bfile freq.14.mafbin2 --extract freq.14.mafbin2.ldbin1 --make-grm --out freq.14.mafbin2.ldbin1\n",
      "Executing: gcta64 --bfile freq.14.mafbin2 --extract freq.14.mafbin2.ldbin2 --make-grm --out freq.14.mafbin2.ldbin2\n",
      "Executing: gcta64 --bfile freq.15.mafbin1 --extract freq.15.mafbin1.ldbin1 --make-grm --out freq.15.mafbin1.ldbin1\n",
      "Executing: gcta64 --bfile freq.15.mafbin1 --extract freq.15.mafbin1.ldbin2 --make-grm --out freq.15.mafbin1.ldbin2\n",
      "Executing: gcta64 --bfile freq.15.mafbin2 --extract freq.15.mafbin2.ldbin1 --make-grm --out freq.15.mafbin2.ldbin1\n",
      "Executing: gcta64 --bfile freq.15.mafbin2 --extract freq.15.mafbin2.ldbin2 --make-grm --out freq.15.mafbin2.ldbin2\n",
      "Executing: gcta64 --bfile freq.16.mafbin1 --extract freq.16.mafbin1.ldbin1 --make-grm --out freq.16.mafbin1.ldbin1\n",
      "Executing: gcta64 --bfile freq.16.mafbin1 --extract freq.16.mafbin1.ldbin2 --make-grm --out freq.16.mafbin1.ldbin2\n",
      "Executing: gcta64 --bfile freq.16.mafbin2 --extract freq.16.mafbin2.ldbin1 --make-grm --out freq.16.mafbin2.ldbin1\n",
      "Executing: gcta64 --bfile freq.16.mafbin2 --extract freq.16.mafbin2.ldbin2 --make-grm --out freq.16.mafbin2.ldbin2\n",
      "Executing: gcta64 --bfile freq.17.mafbin1 --extract freq.17.mafbin1.ldbin1 --make-grm --out freq.17.mafbin1.ldbin1\n",
      "Executing: gcta64 --bfile freq.17.mafbin1 --extract freq.17.mafbin1.ldbin2 --make-grm --out freq.17.mafbin1.ldbin2\n",
      "Executing: gcta64 --bfile freq.17.mafbin2 --extract freq.17.mafbin2.ldbin1 --make-grm --out freq.17.mafbin2.ldbin1\n",
      "Executing: gcta64 --bfile freq.17.mafbin2 --extract freq.17.mafbin2.ldbin2 --make-grm --out freq.17.mafbin2.ldbin2\n",
      "Executing: gcta64 --bfile freq.18.mafbin1 --extract freq.18.mafbin1.ldbin1 --make-grm --out freq.18.mafbin1.ldbin1\n",
      "Executing: gcta64 --bfile freq.18.mafbin1 --extract freq.18.mafbin1.ldbin2 --make-grm --out freq.18.mafbin1.ldbin2\n",
      "Executing: gcta64 --bfile freq.18.mafbin2 --extract freq.18.mafbin2.ldbin1 --make-grm --out freq.18.mafbin2.ldbin1\n",
      "Executing: gcta64 --bfile freq.18.mafbin2 --extract freq.18.mafbin2.ldbin2 --make-grm --out freq.18.mafbin2.ldbin2\n",
      "Executing: gcta64 --bfile freq.19.mafbin1 --extract freq.19.mafbin1.ldbin1 --make-grm --out freq.19.mafbin1.ldbin1\n",
      "Executing: gcta64 --bfile freq.19.mafbin1 --extract freq.19.mafbin1.ldbin2 --make-grm --out freq.19.mafbin1.ldbin2\n",
      "Executing: gcta64 --bfile freq.19.mafbin2 --extract freq.19.mafbin2.ldbin1 --make-grm --out freq.19.mafbin2.ldbin1\n",
      "Executing: gcta64 --bfile freq.19.mafbin2 --extract freq.19.mafbin2.ldbin2 --make-grm --out freq.19.mafbin2.ldbin2\n",
      "Executing: gcta64 --bfile freq.20.mafbin1 --extract freq.20.mafbin1.ldbin1 --make-grm --out freq.20.mafbin1.ldbin1\n",
      "Executing: gcta64 --bfile freq.20.mafbin1 --extract freq.20.mafbin1.ldbin2 --make-grm --out freq.20.mafbin1.ldbin2\n",
      "Executing: gcta64 --bfile freq.20.mafbin2 --extract freq.20.mafbin2.ldbin1 --make-grm --out freq.20.mafbin2.ldbin1\n",
      "Executing: gcta64 --bfile freq.20.mafbin2 --extract freq.20.mafbin2.ldbin2 --make-grm --out freq.20.mafbin2.ldbin2\n",
      "Executing: gcta64 --bfile freq.21.mafbin1 --extract freq.21.mafbin1.ldbin1 --make-grm --out freq.21.mafbin1.ldbin1\n",
      "Executing: gcta64 --bfile freq.21.mafbin1 --extract freq.21.mafbin1.ldbin2 --make-grm --out freq.21.mafbin1.ldbin2\n",
      "Executing: gcta64 --bfile freq.21.mafbin2 --extract freq.21.mafbin2.ldbin1 --make-grm --out freq.21.mafbin2.ldbin1\n",
      "Executing: gcta64 --bfile freq.21.mafbin2 --extract freq.21.mafbin2.ldbin2 --make-grm --out freq.21.mafbin2.ldbin2\n",
      "Executing: gcta64 --bfile freq.22.mafbin1 --extract freq.22.mafbin1.ldbin1 --make-grm --out freq.22.mafbin1.ldbin1\n",
      "Executing: gcta64 --bfile freq.22.mafbin1 --extract freq.22.mafbin1.ldbin2 --make-grm --out freq.22.mafbin1.ldbin2\n",
      "Executing: gcta64 --bfile freq.22.mafbin2 --extract freq.22.mafbin2.ldbin1 --make-grm --out freq.22.mafbin2.ldbin1\n",
      "Executing: gcta64 --bfile freq.22.mafbin2 --extract freq.22.mafbin2.ldbin2 --make-grm --out freq.22.mafbin2.ldbin2\n"
     ]
    }
   ],
   "source": [
    "for chrnum in range(1,23):\n",
    "#     pfile = f'{wgsfolder}/pd.june2019.chr{chrnum}.sqc'\n",
    "    pfile = f'{wgsfolder}/pd.june2019.chr{chrnum}.freeze9.sqc'\n",
    "    \n",
    "    \n",
    "    freqfile = f'freq.{chrnum}'\n",
    "    for Indx in range(1,3):\n",
    "        mafbinIndx = f'mafbin{Indx}'\n",
    "        mafbinfile =  f'{freqfile}.{mafbinIndx}'\n",
    "\n",
    "        # Note this is the ldscore within the maf bin\n",
    "        df = dd.read_csv(f'{mafbinfile}.ldbin.score.ld', sep=' ')\n",
    "        ldscvec = df.ldscore_SNP.compute()\n",
    "        ldscThres = ldscvec.median()\n",
    "        df['Group'] = 1\n",
    "        df['Group'] = df.Group.where(cond=df.ldscore_SNP<ldscThres, other=2)\n",
    "\n",
    "\n",
    "        # Create ldbin and GRMs within the ldbin\n",
    "        for i in range(1, 3):\n",
    "            ldbinIndx = f'{mafbinfile}.ldbin{i}'\n",
    "            df.loc[df.Group==i, ['SNP']].to_csv(\n",
    "                f'{ldbinIndx}', index=False, single_file=True)\n",
    "            gctacmd2 = f'\\\n",
    "            gcta64 --bfile {mafbinfile}\\\n",
    " --extract {ldbinIndx}\\\n",
    " --make-grm\\\n",
    " --out {ldbinIndx}'\n",
    "            myfunc.shell_do(gctacmd2)\n",
    "            with open('multi_GRMs.txt', 'a') as f:\n",
    "                f.write(f'{ldbinIndx}\\n')\n",
    "        # mafbin information save to mafbinInfo.csv\n",
    "        with open('mafbinInfo.txt', 'a') as f:\n",
    "            s = f'{chrnum}\\t{mafbinIndx}\\t{len(ldscvec)}\\t{ldscvec.mean()}\\t{ldscvec.median()}\\t{ldscvec.std()}'\n",
    "            f.write(f'{s}\\n')"
   ]
  },
  {
   "cell_type": "code",
   "execution_count": null,
   "metadata": {},
   "outputs": [],
   "source": [
    "# create covar file per chrom and impute missing age (may want to consider dropping age column in this case (missing for more than half))\n",
    "# impute \"FEMALE\" with median\n",
    "# for chrnum in range(1,2):\n",
    "#     pcs_df = pd.read_csv(f'chr{chrnum}.pca.eigenvec', sep='\\t')\n",
    "#     pcs_df.rename(columns={'#FID':'FID'}, inplace=True)\n",
    "#     covar_df = df[['FID', 'IID', 'AGE', 'FEMALE']].merge(pcs_df, on=['FID','IID'])\n",
    "#     covar_df.drop(['AGE','FEMALE'], axis=1, inplace=True)\n",
    "# #     covar_df.AGE.fillna(covar_df.AGE.mean(), inplace=True)\n",
    "# #     covar_df.FEMALE.fillna(covar_df.FEMALE.median(),inplace=True)\n",
    "# #     print(f'dropping {covar_df[covar_df.AGE.isnull()].shape[0]} rows for missing age')\n",
    "# #     covar_df.dropna(how='any', inplace=True)\n",
    "#     covar_df.to_csv(f'chr{chrnum}.covar', index=False, sep=' ', header=None)\n",
    "#     print(f'wrote: chr{chrnum}.covar with {covar_df.shape[0]} samples')"
   ]
  },
  {
   "cell_type": "code",
   "execution_count": null,
   "metadata": {},
   "outputs": [],
   "source": [
    "# covar_df.head()"
   ]
  },
  {
   "cell_type": "code",
   "execution_count": 15,
   "metadata": {},
   "outputs": [],
   "source": [
    "# count in each ld bin\n",
    "high_ld_counts_dict = {i:0 for i in range(1,3)}\n",
    "low_ld_counts_dict = {i:0 for i in range(1,3)}\n",
    "\n",
    "for chrnum in range(1,23):\n",
    "    freqfile = f'freq.{chrnum}'\n",
    "    for Indx in range(1,3):\n",
    "        mafbinIndx = f'mafbin{Indx}'\n",
    "        mafbinfile =  f'{freqfile}.{mafbinIndx}'\n",
    "        for i in range(1, 3):\n",
    "            ldbinIndx = f'{mafbinfile}.ldbin{i}'\n",
    "            ldbin_df = pd.read_csv(ldbinIndx,sep='\\t')\n",
    "            if (i == 1):\n",
    "                low_ld_counts_dict[Indx] += ldbin_df.shape[0]\n",
    "            else:\n",
    "                high_ld_counts_dict[Indx] += ldbin_df.shape[0]\n",
    "       "
   ]
  },
  {
   "cell_type": "code",
   "execution_count": 16,
   "metadata": {},
   "outputs": [
    {
     "name": "stdout",
     "output_type": "stream",
     "text": [
      "high ld counts per maf group: {1: 1636535, 2: 1005310}\n",
      "low ld counts per maf group: {1: 1636504, 2: 1005296}\n"
     ]
    },
    {
     "data": {
      "text/html": [
       "<div>\n",
       "<style scoped>\n",
       "    .dataframe tbody tr th:only-of-type {\n",
       "        vertical-align: middle;\n",
       "    }\n",
       "\n",
       "    .dataframe tbody tr th {\n",
       "        vertical-align: top;\n",
       "    }\n",
       "\n",
       "    .dataframe thead th {\n",
       "        text-align: right;\n",
       "    }\n",
       "</style>\n",
       "<table border=\"1\" class=\"dataframe\">\n",
       "  <thead>\n",
       "    <tr style=\"text-align: right;\">\n",
       "      <th></th>\n",
       "      <th>high_ld</th>\n",
       "      <th>low_ld</th>\n",
       "    </tr>\n",
       "    <tr>\n",
       "      <th>maf_bin</th>\n",
       "      <th></th>\n",
       "      <th></th>\n",
       "    </tr>\n",
       "  </thead>\n",
       "  <tbody>\n",
       "    <tr>\n",
       "      <th>low</th>\n",
       "      <td>1636535</td>\n",
       "      <td>1636504</td>\n",
       "    </tr>\n",
       "    <tr>\n",
       "      <th>high</th>\n",
       "      <td>1005310</td>\n",
       "      <td>1005296</td>\n",
       "    </tr>\n",
       "  </tbody>\n",
       "</table>\n",
       "</div>"
      ],
      "text/plain": [
       "         high_ld   low_ld\n",
       "maf_bin                  \n",
       "low      1636535  1636504\n",
       "high     1005310  1005296"
      ]
     },
     "execution_count": 16,
     "metadata": {},
     "output_type": "execute_result"
    }
   ],
   "source": [
    "print(f'high ld counts per maf group: {high_ld_counts_dict}')\n",
    "print(f'low ld counts per maf group: {low_ld_counts_dict}')\n",
    "high_df = pd.Series(high_ld_counts_dict).to_frame()\n",
    "low_df = pd.Series(low_ld_counts_dict).to_frame()\n",
    "high_df.columns = ['high_ld']\n",
    "low_df.columns = ['low_ld']\n",
    "ld_counts_df = high_df.merge(low_df, left_index=True, right_index=True)\n",
    "# bins = ['<0.001', '<0.01', '<0.1', '<0.25', '<0.5', '=0.5']\n",
    "bins = ['low','high']\n",
    "ld_counts_df['maf_bin'] = bins\n",
    "ld_counts_df.set_index('maf_bin', inplace=True)\n",
    "ld_counts_df.to_csv('_ld_bin_counts.txt', sep='\\t')\n",
    "ld_counts_df"
   ]
  },
  {
   "cell_type": "code",
   "execution_count": 20,
   "metadata": {},
   "outputs": [
    {
     "data": {
      "text/plain": [
       "<matplotlib.axes._subplots.AxesSubplot at 0x2aaae8312c10>"
      ]
     },
     "execution_count": 20,
     "metadata": {},
     "output_type": "execute_result"
    },
    {
     "data": {
      "image/png": "[encoded data removed]",
      "text/plain": [
       "<Figure size 432x288 with 1 Axes>"
      ]
     },
     "metadata": {
      "needs_background": "light"
     },
     "output_type": "display_data"
    }
   ],
   "source": [
    "ld_counts_df.plot.bar()\n"
   ]
  },
  {
   "cell_type": "code",
   "execution_count": null,
   "metadata": {},
   "outputs": [],
   "source": [
    "# --reml-no-lrt\\\n",
    "# --reml-inv-mtd 3\\\n",
    "# run with all maf bins\n",
    "# gctacmd3 = f'\\\n",
    "# gcta --reml\\\n",
    "#  --mgrm multi_GRMs.txt\\\n",
    "#  --pheno {idfile}\\\n",
    "#  --qcovar chr1.pca.10.eigenvec\\\n",
    "#  --reml-alg 2\\\n",
    "#  --reml-no-constrain\\\n",
    "#  --thread-num 64\\\n",
    "#  --reml-maxit 1000\\\n",
    "#  --out test'\n",
    "# # myfunc.shell_do(gctacmd3)\n",
    "\n",
    "# with open('_reml_script.swarm', 'w') as f:\n",
    "# #     f.write('#!/bin/bash\\n')\n",
    "#     f.write(f'{gctacmd3}\\n')"
   ]
  },
  {
   "cell_type": "code",
   "execution_count": null,
   "metadata": {},
   "outputs": [],
   "source": [
    "# !swarm -f _reml_script.swarm --time=80:00:00 -g 64 -t 64 --logdir swarm --module GCTA --partition=norm"
   ]
  },
  {
   "cell_type": "code",
   "execution_count": null,
   "metadata": {},
   "outputs": [],
   "source": [
    "# #set up to run with just maf bins 2-6 as we might not have resolution for maf<0.001\n",
    "# for chrnum in range(1,23):\n",
    "#     pfile = f'{wgsfolder}/pd.june2019.chr{chrnum}.sqc'\n",
    "#     freqfile = f'freq.{chrnum}'\n",
    "#     for Indx in range(2,6): # leaving last maf bin out for testing!!!! ( will be combined with 0.25<maf<=0.5)\n",
    "#         mafbinIndx = f'mafbin{Indx}'\n",
    "#         mafbinfile =  f'{freqfile}.{mafbinIndx}'\n",
    "\n",
    "        \n",
    "        \n",
    "\n",
    "#         # Note this is the ldscore within the maf bin\n",
    "#         df = dd.read_csv(f'{mafbinfile}.ldbin.score.ld', sep=' ')\n",
    "#         ldscvec = df.ldscore_SNP.compute()\n",
    "#         ldscThres = ldscvec.median()\n",
    "#         df['Group'] = 1\n",
    "#         df['Group'] = df.Group.where(cond=df.ldscore_SNP<ldscThres, other=2)\n",
    "\n",
    "\n",
    "#         # Create ldbin and GRMs within the ldbin\n",
    "#         for i in range(1, 3):\n",
    "#             ldbinIndx = f'{mafbinfile}.ldbin{i}'\n",
    "\n",
    "#             with open('2_5_maf_bins_multi_GRMs.txt', 'a') as f:\n",
    "#                 f.write(f'{ldbinIndx}\\n')\n",
    "#         # mafbin information save to mafbinInfo.csv\n",
    "#         with open('2_5_mafbinInfo.txt', 'a') as f:\n",
    "#             s = f'{chrnum}\\t{mafbinIndx}\\t{len(ldscvec)}\\t{ldscvec.mean()}\\t{ldscvec.median()}\\t{ldscvec.std()}'\n",
    "#             f.write(f'{s}\\n')"
   ]
  },
  {
   "cell_type": "code",
   "execution_count": null,
   "metadata": {},
   "outputs": [],
   "source": [
    "# gctacmd_2_5_maf = f'\\\n",
    "# gcta --reml\\\n",
    "#  --mgrm 2_5_maf_bins_multi_GRMs.txt\\\n",
    "#  --pheno {idfile}\\\n",
    "#  --qcovar chr1.pca.eigenvec\\\n",
    "#  --reml-alg 2\\\n",
    "#  --reml-no-constrain\\\n",
    "#  --thread-num 64\\\n",
    "#  --reml-maxit 1000\\\n",
    "#  --out test_2_5_maf'\n",
    "# # myfunc.shell_do(gctacmd3)\n",
    "\n",
    "# with open('2_5_maf_bins_reml_script.swarm', 'w') as f:\n",
    "# #     f.write('#!/bin/bash\\n')\n",
    "#     f.write(f'{gctacmd_2_5_maf}\\n')"
   ]
  },
  {
   "cell_type": "code",
   "execution_count": null,
   "metadata": {},
   "outputs": [],
   "source": [
    "# !swarm -f 2_5_maf_bins_reml_script.swarm --time=80:00:00 -g 64 -t 64 --logdir swarm --module GCTA --partition=norm"
   ]
  },
  {
   "cell_type": "code",
   "execution_count": null,
   "metadata": {},
   "outputs": [],
   "source": []
  },
  {
   "cell_type": "code",
   "execution_count": null,
   "metadata": {},
   "outputs": [],
   "source": [
    "# get estimates for cpu-hrs for analysis\n",
    "jobs_df = pd.read_csv('../biowulf_user_dashboard.csv')\n",
    "jobs_df.head(10)"
   ]
  },
  {
   "cell_type": "code",
   "execution_count": null,
   "metadata": {},
   "outputs": [],
   "source": [
    "jobs_df2 = jobs_df[jobs_df.state == 'COMPLETED'][['jobid','cpu', 'cpu_min',\n",
    "       'cpu_max', 'cpu_avg', 'cpu_util', 'mem', 'mem_min', 'mem_max','elapsed_time']]\n",
    "\n",
    "jobs_df2['hrs'] = jobs_df2.elapsed_time/3600\n",
    "jobs_df2['cpu_hrs'] = jobs_df2.cpu * jobs_df2.hrs"
   ]
  },
  {
   "cell_type": "code",
   "execution_count": null,
   "metadata": {},
   "outputs": [],
   "source": [
    "sum(jobs_df2.cpu_hrs)"
   ]
  },
  {
   "cell_type": "code",
   "execution_count": null,
   "metadata": {},
   "outputs": [],
   "source": [
    "# now try merging grms\n",
    "\n",
    "# !gcta --mgrm multi_GRMs.txt --make-grm --out test_merged_grm"
   ]
  },
  {
   "cell_type": "code",
   "execution_count": null,
   "metadata": {},
   "outputs": [],
   "source": [
    "# gctacmd_merged = f'\\\n",
    "# gcta --reml\\\n",
    "#  --grm test_merged_grm\\\n",
    "#  --pheno {idfile}\\\n",
    "#  --qcovar chr1.pca.eigenvec\\\n",
    "#  --reml-alg 2\\\n",
    "#  --reml-no-constrain\\\n",
    "#  --thread-num 64\\\n",
    "#  --reml-maxit 1000\\\n",
    "#  --out test_merged'\n",
    "\n",
    "# with open('merged_reml_script.swarm', 'w') as f:\n",
    "# #     f.write('#!/bin/bash\\n')\n",
    "#     f.write(f'{gctacmd_merged}\\n')"
   ]
  },
  {
   "cell_type": "code",
   "execution_count": null,
   "metadata": {},
   "outputs": [],
   "source": [
    "# !swarm -f merged_reml_script.swarm --time=80:00:00 -g 64 -t 64 --logdir swarm --module GCTA --partition=norm"
   ]
  },
  {
   "cell_type": "code",
   "execution_count": null,
   "metadata": {},
   "outputs": [],
   "source": [
    "# keep_ids = pd.read_csv('_keep.id',sep='\\t',header=None)"
   ]
  },
  {
   "cell_type": "code",
   "execution_count": null,
   "metadata": {},
   "outputs": [],
   "source": [
    "# keep_ids[2].value_counts()"
   ]
  },
  {
   "cell_type": "code",
   "execution_count": null,
   "metadata": {},
   "outputs": [],
   "source": []
  },
  {
   "cell_type": "code",
   "execution_count": 11,
   "metadata": {},
   "outputs": [
    {
     "name": "stderr",
     "output_type": "stream",
     "text": [
      "Executing: gcta --mgrm multi_GRMs.mafbin1.ldbin1.txt --make-grm --out freq.mafbin1.ldbin1\n",
      "Executing: gcta --mgrm multi_GRMs.mafbin1.ldbin2.txt --make-grm --out freq.mafbin1.ldbin2\n",
      "Executing: gcta --mgrm multi_GRMs.mafbin2.ldbin1.txt --make-grm --out freq.mafbin2.ldbin1\n",
      "Executing: gcta --mgrm multi_GRMs.mafbin2.ldbin2.txt --make-grm --out freq.mafbin2.ldbin2\n"
     ]
    }
   ],
   "source": [
    "# now merge chr grms (1 grm per mafbin/ldbin combo: 6 maf bins, 2 ldbins = 12 total grms)\n",
    "\n",
    "with open('multi_GRMs.merged_chrs.txt', 'w') as mergedGRMlist:\n",
    "    for Indx in range(1,3): \n",
    "        mafbinIndx = f'mafbin{Indx}'\n",
    "        for i in range(1, 3):\n",
    "            ldbinIndx = f'{mafbinIndx}.ldbin{i}'\n",
    "            mergedGRMfile = f'freq.{ldbinIndx}'\n",
    "            for chrnum in range(1,23):\n",
    "                freqfile = f'freq.{chrnum}.{ldbinIndx}'\n",
    "                multiGRMfile = f'multi_GRMs.{ldbinIndx}.txt'\n",
    "                with open(f'{multiGRMfile}', 'a') as f:\n",
    "                    f.write(f'{freqfile}\\n')\n",
    "            \n",
    "            gcta_merge_cmd = f'\\\n",
    "gcta --mgrm {multiGRMfile}\\\n",
    " --make-grm --out {mergedGRMfile}'\n",
    "            myfunc.shell_do(gcta_merge_cmd)\n",
    "            mergedGRMlist.write(f'{mergedGRMfile}\\n')       "
   ]
  },
  {
   "cell_type": "code",
   "execution_count": null,
   "metadata": {},
   "outputs": [],
   "source": [
    "# #  \n",
    "# gctacmd_merged_chrs_reml = f'\\\n",
    "# gcta --reml\\\n",
    "#  --mgrm multi_GRMs.merged_chrs.txt\\\n",
    "#  --pheno {idfile}\\\n",
    "#  --qcovar chr1.pca.10.eigenvec\\\n",
    "#  --reml-alg 1\\\n",
    "#  --reml-no-constrain\\\n",
    "#  --thread-num 64\\\n",
    "#  --reml-maxit 1000\\\n",
    "#  --out test_alg1'\n",
    "\n",
    "# with open('_reml_alg1_script.swarm', 'w') as f:\n",
    "#     f.write(f'{gctacmd_merged_chrs_reml}\\n')"
   ]
  },
  {
   "cell_type": "code",
   "execution_count": null,
   "metadata": {},
   "outputs": [],
   "source": [
    "# !swarm -f _reml_alg1_script.swarm --time=80:00:00 -g 64 -t 64 --logdir swarm --module GCTA --partition=norm"
   ]
  },
  {
   "cell_type": "code",
   "execution_count": null,
   "metadata": {},
   "outputs": [],
   "source": [
    "# gctacmd_merged_chrs_reml = f'\\\n",
    "# gcta --reml\\\n",
    "#  --mgrm multi_GRMs.merged_chrs.txt\\\n",
    "#  --pheno {idfile}\\\n",
    "#  --qcovar chr1.pca.10.eigenvec\\\n",
    "#  --reml-alg 2\\\n",
    "#  --reml-no-constrain\\\n",
    "#  --thread-num 64\\\n",
    "#  --reml-maxit 1000\\\n",
    "#  --out test_alg2'\n",
    "\n",
    "# with open('_reml_alg2_script.swarm', 'w') as f:\n",
    "#     f.write(f'{gctacmd_merged_chrs_reml}\\n')"
   ]
  },
  {
   "cell_type": "code",
   "execution_count": null,
   "metadata": {},
   "outputs": [],
   "source": [
    "# !swarm -f _reml_alg2_script.swarm --time=80:00:00 -g 64 -t 64 --logdir swarm --module GCTA --partition=norm --devel"
   ]
  },
  {
   "cell_type": "code",
   "execution_count": 13,
   "metadata": {},
   "outputs": [],
   "source": [
    "!mkdir reml"
   ]
  },
  {
   "cell_type": "code",
   "execution_count": 3,
   "metadata": {},
   "outputs": [],
   "source": [
    "# now fire off jobs in a loop like gridsearch\n",
    "# \n",
    "param_grid = {'--reml-inv-mtd': [None, 3, 4], \n",
    "              '--reml-alg': [0, 1, 2]\n",
    "             }"
   ]
  },
  {
   "cell_type": "code",
   "execution_count": 6,
   "metadata": {},
   "outputs": [],
   "source": [
    "# --reml-no-constrain\\\n",
    "\n",
    "reml_gridsearch_cmds = []\n",
    "reml_gridsearch_outfiles = []\n",
    "for opts in itertools.product(param_grid['--reml-alg'], param_grid['--reml-inv-mtd']):\n",
    "    if opts[1]:\n",
    "        outfile = f'test_alg{opts[0]}_invmtd{opts[1]}_lrt'\n",
    "        outpath = f'reml/{outfile}'\n",
    "        gctacmd = f'\\\n",
    "gcta --reml\\\n",
    " --mgrm multi_GRMs.merged_chrs.txt\\\n",
    " --pheno {idfile}\\\n",
    " --qcovar chr1.pca.20.eigenvec\\\n",
    " --reml-alg {opts[0]}\\\n",
    " --reml-inv-mtd {opts[1]}\\\n",
    " --thread-num 64\\\n",
    " --reml-maxit 1000\\\n",
    " --out {outpath}'\n",
    "        \n",
    "        reml_gridsearch_cmds.append(gctacmd) \n",
    "        reml_gridsearch_outfiles.append(outfile)\n",
    "    else:\n",
    "        outfile = f'test_alg{opts[0]}'\n",
    "        outpath = f'reml/{outfile}'\n",
    "        gctacmd = f'\\\n",
    "gcta --reml\\\n",
    " --mgrm multi_GRMs.merged_chrs.txt\\\n",
    " --pheno {idfile}\\\n",
    " --qcovar chr1.pca.20.eigenvec\\\n",
    " --reml-alg {opts[0]}\\\n",
    " --thread-num 64\\\n",
    " --reml-maxit 1000\\\n",
    " --out {outpath}'\n",
    "        reml_gridsearch_cmds.append(gctacmd)\n",
    "        reml_gridsearch_outfiles.append(outfile)"
   ]
  },
  {
   "cell_type": "code",
   "execution_count": 8,
   "metadata": {},
   "outputs": [],
   "source": [
    "with open('reml_gridsearch.swarm', 'w') as f:\n",
    "    for cmd in reml_gridsearch_cmds:\n",
    "        f.write(f'{cmd}\\n')"
   ]
  },
  {
   "cell_type": "code",
   "execution_count": 9,
   "metadata": {},
   "outputs": [
    {
     "name": "stdout",
     "output_type": "stream",
     "text": [
      "63561917\n"
     ]
    }
   ],
   "source": [
    "!swarm -f reml_gridsearch.swarm --time=80:00:00 -g 64 -t 64 --logdir swarm --module GCTA --partition=norm"
   ]
  },
  {
   "cell_type": "code",
   "execution_count": 17,
   "metadata": {},
   "outputs": [
    {
     "data": {
      "text/plain": [
       "Text(0.5, 1.0, 'H^2 Standard Error Per Maf/LD Group Per Algorithm')"
      ]
     },
     "execution_count": 17,
     "metadata": {},
     "output_type": "execute_result"
    },
    {
     "data": {
      "image/png": "[encoded data removed]",
      "text/plain": [
       "<Figure size 864x648 with 1 Axes>"
      ]
     },
     "metadata": {
      "needs_background": "light"
     },
     "output_type": "display_data"
    }
   ],
   "source": [
    "gridsearch_dfs = []\n",
    "for file in reml_gridsearch_outfiles:\n",
    "    if path.exists(f'reml/{file}.hsq'):\n",
    "        hsq = pd.read_csv(f\"reml/{file}.hsq\", sep=\"\\t\")\n",
    "        hsq.columns = [\"Source\", f\"Variance_{file}\", f\"SE_{file}\"]\n",
    "        gridsearch_dfs.append(hsq)\n",
    "    \n",
    "hsq = reduce(lambda left,right: pd.merge(left,right,on='Source'), gridsearch_dfs)\n",
    "hsq2 = hsq.iloc[6:11,:].reset_index().drop('index',axis=1)\n",
    "hsq2['maf'] = ['low','low','high','high','total']\n",
    "hsq2['ld'] = ['low','high','low','high','total']\n",
    "hsq2['maf_ld_group'] = ['lowMAF_lowLD','lowMAF_highLD','highMAF_lowLD','highMAF_highLD','total']\n",
    "se_columns = [f'SE_{file}' for file in reml_gridsearch_outfiles]\n",
    "se_columns.insert(0,'maf_ld_group')\n",
    "\n",
    "# add zeros for columns of algorithms that did not converge\n",
    "for col in se_columns:\n",
    "    if col not in hsq2.columns:\n",
    "        hsq2[col] = 0\n",
    "    else:\n",
    "        pass\n",
    "# now, grab only se    \n",
    "hsq_se = hsq2[se_columns]\n",
    "\n",
    "# we can visually see that the invmtd methods didnt result in different SE so lets just do 1 plot for each alg\n",
    "hsq_se_final = hsq_se[['maf_ld_group', 'SE_test_alg0', 'SE_test_alg1', 'SE_test_alg2']]\n",
    "hsq_se_melt = pd.melt(hsq_se_final, id_vars=['maf_ld_group'], value_vars=['SE_test_alg0', 'SE_test_alg1', 'SE_test_alg2'])\n",
    "hsq_se_melt.rename(columns={'value':'SE', 'variable':'alg'}, inplace=True)\n",
    "hsq_se_melt\n",
    "\n",
    "plt.figure(figsize=(12, 9))\n",
    "se_plot = sns.barplot(x=\"maf_ld_group\", hue=\"alg\", y=\"SE\", data=hsq_se_melt)\n",
    "se_plot.set_xlabel(\"MAF/LD Group\",fontsize=15)\n",
    "se_plot.set_ylabel(\"Standard Error\", fontsize=15)\n",
    "se_plot.set_title(\"H^2 Standard Error Per Maf/LD Group Per Algorithm\", fontsize=15)"
   ]
  },
  {
   "cell_type": "code",
   "execution_count": null,
   "metadata": {},
   "outputs": [],
   "source": []
  },
  {
   "cell_type": "code",
   "execution_count": 4,
   "metadata": {},
   "outputs": [],
   "source": [
    "# choose one that works from gridsearch\n",
    "# run for each number of pcs\n",
    "# --reml-no-constrain\\\n",
    "\n",
    "with open('multi_pcs_reml.swarm', 'w') as f:\n",
    "    for i in [20,40,80]:\n",
    "        \n",
    "        remlcmd = f'\\\n",
    "gcta --reml\\\n",
    " --mgrm multi_GRMs.merged_chrs.txt\\\n",
    " --pheno _keep.id\\\n",
    " --qcovar chr1.pca.{i}.eigenvec\\\n",
    " --reml-alg 0\\\n",
    " --thread-num 64\\\n",
    " --reml-maxit 1000\\\n",
    " --out reml/reml_2maf_alg0_{i}pcs'\n",
    "        \n",
    "        f.write(f'{remlcmd}\\n')\n",
    "    "
   ]
  },
  {
   "cell_type": "code",
   "execution_count": 5,
   "metadata": {},
   "outputs": [
    {
     "name": "stdout",
     "output_type": "stream",
     "text": [
      "63587480\n"
     ]
    }
   ],
   "source": [
    "!swarm -f multi_pcs_reml.swarm --time=80:00:00 -g 64 -t 64 --logdir swarm --module GCTA --partition=norm"
   ]
  },
  {
   "cell_type": "code",
   "execution_count": 4,
   "metadata": {},
   "outputs": [
    {
     "data": {
      "text/html": [
       "<div>\n",
       "<style scoped>\n",
       "    .dataframe tbody tr th:only-of-type {\n",
       "        vertical-align: middle;\n",
       "    }\n",
       "\n",
       "    .dataframe tbody tr th {\n",
       "        vertical-align: top;\n",
       "    }\n",
       "\n",
       "    .dataframe thead th {\n",
       "        text-align: right;\n",
       "    }\n",
       "</style>\n",
       "<table border=\"1\" class=\"dataframe\">\n",
       "  <thead>\n",
       "    <tr style=\"text-align: right;\">\n",
       "      <th></th>\n",
       "      <th>Source</th>\n",
       "      <th>20_PCs</th>\n",
       "      <th>SE20</th>\n",
       "      <th>40_PCs</th>\n",
       "      <th>SE40</th>\n",
       "      <th>80_PCs</th>\n",
       "      <th>SE80</th>\n",
       "      <th>maf_ld_group</th>\n",
       "      <th>maf</th>\n",
       "      <th>ld</th>\n",
       "    </tr>\n",
       "  </thead>\n",
       "  <tbody>\n",
       "    <tr>\n",
       "      <th>0</th>\n",
       "      <td>V(G1)/Vp</td>\n",
       "      <td>0.273448</td>\n",
       "      <td>0.042179</td>\n",
       "      <td>0.273160</td>\n",
       "      <td>0.042201</td>\n",
       "      <td>0.270713</td>\n",
       "      <td>0.042304</td>\n",
       "      <td>mafbin1_ldbin1</td>\n",
       "      <td>low_maf</td>\n",
       "      <td>low_ld</td>\n",
       "    </tr>\n",
       "    <tr>\n",
       "      <th>1</th>\n",
       "      <td>V(G2)/Vp</td>\n",
       "      <td>0.113258</td>\n",
       "      <td>0.019351</td>\n",
       "      <td>0.114859</td>\n",
       "      <td>0.019415</td>\n",
       "      <td>0.116279</td>\n",
       "      <td>0.019507</td>\n",
       "      <td>mafbin1_ldbin2</td>\n",
       "      <td>low_maf</td>\n",
       "      <td>high_ld</td>\n",
       "    </tr>\n",
       "    <tr>\n",
       "      <th>2</th>\n",
       "      <td>V(G3)/Vp</td>\n",
       "      <td>0.076295</td>\n",
       "      <td>0.033151</td>\n",
       "      <td>0.076758</td>\n",
       "      <td>0.033193</td>\n",
       "      <td>0.076682</td>\n",
       "      <td>0.033249</td>\n",
       "      <td>mafbin2_ldbin1</td>\n",
       "      <td>high_maf</td>\n",
       "      <td>low_ld</td>\n",
       "    </tr>\n",
       "    <tr>\n",
       "      <th>3</th>\n",
       "      <td>V(G4)/Vp</td>\n",
       "      <td>0.011864</td>\n",
       "      <td>0.013760</td>\n",
       "      <td>0.011459</td>\n",
       "      <td>0.013743</td>\n",
       "      <td>0.011016</td>\n",
       "      <td>0.013768</td>\n",
       "      <td>mafbin2_ldbin2</td>\n",
       "      <td>high_maf</td>\n",
       "      <td>high_ld</td>\n",
       "    </tr>\n",
       "    <tr>\n",
       "      <th>4</th>\n",
       "      <td>Sum of V(G)/Vp</td>\n",
       "      <td>0.474866</td>\n",
       "      <td>0.035283</td>\n",
       "      <td>0.476236</td>\n",
       "      <td>0.035297</td>\n",
       "      <td>0.474690</td>\n",
       "      <td>0.035352</td>\n",
       "      <td>total</td>\n",
       "      <td>total</td>\n",
       "      <td></td>\n",
       "    </tr>\n",
       "  </tbody>\n",
       "</table>\n",
       "</div>"
      ],
      "text/plain": [
       "           Source    20_PCs      SE20    40_PCs      SE40    80_PCs      SE80  \\\n",
       "0        V(G1)/Vp  0.273448  0.042179  0.273160  0.042201  0.270713  0.042304   \n",
       "1        V(G2)/Vp  0.113258  0.019351  0.114859  0.019415  0.116279  0.019507   \n",
       "2        V(G3)/Vp  0.076295  0.033151  0.076758  0.033193  0.076682  0.033249   \n",
       "3        V(G4)/Vp  0.011864  0.013760  0.011459  0.013743  0.011016  0.013768   \n",
       "4  Sum of V(G)/Vp  0.474866  0.035283  0.476236  0.035297  0.474690  0.035352   \n",
       "\n",
       "     maf_ld_group       maf       ld  \n",
       "0  mafbin1_ldbin1   low_maf   low_ld  \n",
       "1  mafbin1_ldbin2   low_maf  high_ld  \n",
       "2  mafbin2_ldbin1  high_maf   low_ld  \n",
       "3  mafbin2_ldbin2  high_maf  high_ld  \n",
       "4           total     total           "
      ]
     },
     "execution_count": 4,
     "metadata": {},
     "output_type": "execute_result"
    }
   ],
   "source": [
    "# plotting H^2\n",
    "dfs = []\n",
    "for i in [20,40,80]:\n",
    "    hsq = pd.read_csv(f\"reml/reml_2maf_alg0_{i}pcs.hsq\", sep=\"\\t\")\n",
    "    hsq.columns = [\"Source\", f\"Variance{i}\", f\"SE{i}\"]\n",
    "    dfs.append(hsq)\n",
    "# hsq20 = pd.read_csv(\"reml/reml_2maf_alg0_20pcs.hsq\", sep=\"\\t\")\n",
    "# hsq40 = pd.read_csv(\"reml/reml_2maf_alg0_40pcs.hsq\", sep=\"\\t\")\n",
    "# hsq80 = pd.read_csv(\"reml/reml_2maf_alg0_80pcs.hsq\", sep=\"\\t\")\n",
    "\n",
    "# dfs = [hsq20, hsq40, hsq80]\n",
    "hsq = reduce(lambda left,right: pd.merge(left,right,on='Source'), dfs)\n",
    "hsq2 = hsq.iloc[6:11,:].reset_index().drop('index',axis=1)\n",
    "hsq2['maf_ld_group'] = ['mafbin1_ldbin1','mafbin1_ldbin2','mafbin2_ldbin1','mafbin2_ldbin2','total']\n",
    "hsq2['maf'] = ['low_maf','low_maf','high_maf','high_maf','total']\n",
    "# ['0.0001-0.01', '0.0001-0.01', '0.01-0.5', '0.01-0.5','total']\n",
    "hsq2['ld'] = ['low_ld','high_ld','low_ld','high_ld','']\n",
    "hsq2.rename(columns={'Variance20':'20_PCs','Variance40':'40_PCs','Variance80':'80_PCs'}, inplace=True)\n",
    "hsq2.head()\n"
   ]
  },
  {
   "cell_type": "code",
   "execution_count": 5,
   "metadata": {},
   "outputs": [],
   "source": [
    "# hsq_var = hsq2[[\"Variance20\",\"Variance40\",\"Variance80\",\"maf\",\"ld\"]]\n",
    "# hsq_melt = pd.melt(hsq2, id_vars=['maf','ld','SE20','SE40','SE80'], value_vars=['20_PCs','40_PCs','80_PCs'])\n",
    "# hsq_melt.rename(columns={'variable':'PCs','value':'Heritability'},inplace=True)\n",
    "# hsq_melt2 = pd.melt(hsq_melt, id_vars=['maf','ld','PCs','Heritability'], value_vars=['SE20','SE40','SE80'])\n",
    "# hsq_melt2.rename(columns={'value':'SE'}, inplace=True)\n",
    "# hsq_20 = hsq_melt2[hsq_melt2.PCs.str.contains('20') & hsq_melt2.variable.str.contains('20')]\n",
    "# hsq_40 = hsq_melt2[hsq_melt2.PCs.str.contains('40') & hsq_melt2.variable.str.contains('40')]\n",
    "# hsq_80 = hsq_melt2[hsq_melt2.PCs.str.contains('80') & hsq_melt2.variable.str.contains('80')]\n",
    "# hsq_final = hsq_20.append(hsq_40.append(hsq_80))\n",
    "# hsq_final.reset_index(drop=True, inplace=True)\n",
    "# low = hsq_final[hsq_final.ld=='low']\n",
    "# high = hsq_final[hsq_final.ld=='high']\n",
    "low = hsq2[hsq2.ld=='low_ld']\n",
    "high = hsq2[hsq2.ld=='high_ld']\n",
    "total = hsq2[hsq2.maf=='total']"
   ]
  },
  {
   "cell_type": "code",
   "execution_count": 6,
   "metadata": {},
   "outputs": [],
   "source": [
    "# import plotly.graph_objects as go\n",
    "# # import plotly.offline as pyo\n",
    "# # pyo.init_notebook_mode()\n",
    "# import plotly\n",
    "# plotly.offline.init_notebook_mode(connected=True)\n",
    "\n",
    "# # fig = go.Figure()\n",
    "# fig=go.FigureWidget()\n",
    "\n",
    "# x = [hsq2['maf'],hsq2['ld']]\n",
    "\n",
    "# fig.add_trace(go.Bar(\n",
    "#     name='20 PCs',\n",
    "#     x=x, y=hsq2['20_PCs']))\n",
    "\n",
    "# fig.add_trace(go.Bar(\n",
    "#     name='40 PCs',\n",
    "#     x=x, y=hsq2['40_PCs']))\n",
    "\n",
    "# fig.add_trace(go.Bar(\n",
    "#     name='80 PCs',\n",
    "#     x=x, y=hsq2['80_PCs']))\n",
    "\n",
    "# fig.write_html('rare_vars_075_3.html', auto_open=True)\n",
    "# fig.show()\n"
   ]
  },
  {
   "cell_type": "code",
   "execution_count": 9,
   "metadata": {},
   "outputs": [
    {
     "data": {
      "image/png": "[encoded data removed]",
      "text/plain": [
       "<Figure size 1080x576 with 3 Axes>"
      ]
     },
     "metadata": {
      "needs_background": "light"
     },
     "output_type": "display_data"
    }
   ],
   "source": [
    "\n",
    "# colors = {'20_PCs':'red', '40_PCs':'blue', '80_PCs':'green'}\n",
    "barWidth = 0.3\n",
    "r1 = np.arange(len(low.maf))\n",
    "r2 = [x + barWidth for x in r1]\n",
    "r3 = [x + barWidth for x in r2]\n",
    "u = low['maf']\n",
    "x = np.arange(len(u))\n",
    "\n",
    "fig, (ax1, ax2, ax3) = plt.subplots(ncols=3, sharey=True, sharex=False)\n",
    "fig.set_figheight(8)\n",
    "fig.set_figwidth(15)\n",
    "\n",
    "\n",
    "low1 = ax1.bar(r1, low['20_PCs'], width = barWidth, yerr=low['SE20'], capsize=5, color='red')\n",
    "low2 = ax1.bar(r2, low['40_PCs'], width = barWidth, yerr=low['SE40'], capsize=5, color='blue')\n",
    "low3 = ax1.bar(r3, low['80_PCs'], width = barWidth, yerr=low['SE80'], capsize=5, color='green')\n",
    "ax1.title.set_text('Low LD')\n",
    "\n",
    "\n",
    "high1 = ax2.bar(r1, high['20_PCs'], width = barWidth, yerr=high['SE20'], capsize=5, color='red')\n",
    "high2 = ax2.bar(r2, high['40_PCs'], width = barWidth, yerr=high['SE40'], capsize=5, color='blue')\n",
    "high3 = ax2.bar(r3, high['80_PCs'], width = barWidth, yerr=high['SE80'], capsize=5, color='green')\n",
    "ax2.title.set_text('High LD')\n",
    "\n",
    "plt.legend(handles=[low1, low2, low3], labels=['20 PCs', '40 PCs', '80 PCs'], loc=\"upper right\")\n",
    "plt.setp((ax1, ax2), xticks=[0.3, 1.3], xticklabels=['low', 'high'])\n",
    "fig.text(0.5, 0.04, 'MAF Bucket', va='center', ha='center', fontsize=15)\n",
    "fig.text(0.04, 0.5, 'Heritability', va='center', ha='center', rotation='vertical', fontsize=15)\n",
    "\n",
    "total1 = ax3.bar(0, total['20_PCs'], width = barWidth, yerr=total['SE20'], capsize=5, color='red')\n",
    "total2 = ax3.bar(.3, total['40_PCs'], width = barWidth, yerr=total['SE20'], capsize=5, color='blue')\n",
    "total3 = ax3.bar(.6, total['80_PCs'], width = barWidth, yerr=total['SE20'], capsize=5, color='green')\n",
    "ax3.title.set_text('Total')\n",
    "\n",
    "\n",
    "\n",
    "# barWidth = 0.3\n",
    "# r1 = np.arange(len(low.maf))\n",
    "# r2 = [x + barWidth for x in r1]\n",
    "# r3 = [x + barWidth for x in r2]\n",
    "# u = low['maf']\n",
    "# x = np.arange(len(u))\n",
    "\n",
    "# fig, (ax1, ax2) = plt.subplots(ncols=2, sharey=True, sharex=True)\n",
    "# fig.set_figheight(8)\n",
    "# fig.set_figwidth(15)\n",
    "\n",
    "\n",
    "# low1 = ax1.bar(r1, low['20_PCs'], width = barWidth, yerr=low['SE20'], capsize=5, color='red')\n",
    "# low2 = ax1.bar(r2, low['40_PCs'], width = barWidth, yerr=low['SE40'], capsize=5, color='blue')\n",
    "# low3 = ax1.bar(r3, low['80_PCs'], width = barWidth, yerr=low['SE80'], capsize=5, color='green')\n",
    "# ax1.title.set_text('Low LD')\n",
    "\n",
    "\n",
    "# high1 = ax2.bar(r1, high['20_PCs'], width = barWidth, yerr=high['SE20'], capsize=5, color='red')\n",
    "# high2 = ax2.bar(r2, high['40_PCs'], width = barWidth, yerr=high['SE40'], capsize=5, color='blue')\n",
    "# high3 = ax2.bar(r3, high['80_PCs'], width = barWidth, yerr=low['SE80'], capsize=5, color='green')\n",
    "# ax2.title.set_text('High LD')\n",
    "\n",
    "# plt.legend(handles=[low1, low2, low3], labels=['20 PCs', '40 PCs', '80 PCs'], loc=\"upper right\")\n",
    "# plt.setp((ax1, ax2), xticks=[0.3, 1.3], xticklabels=['low', 'high'])\n",
    "# fig.text(0.5, 0.04, 'MAF Bucket', va='center', ha='center', fontsize=15)\n",
    "# fig.text(0.04, 0.5, 'Heritability', va='center', ha='center', rotation='vertical', fontsize=15)\n",
    "\n",
    "\n",
    "\n",
    "\n",
    "\n",
    "# fig, (ax1, ax2) = plt.subplots(ncols=2, sharey=True)\n",
    "# fig.set_figheight(8)\n",
    "# fig.set_figwidth(15)\n",
    "# sns.barplot(low.maf, low.Heritability, hue=low.PCs, ax=ax1)\n",
    "# ax1.title.set_text(\"Low LD\")\n",
    "\n",
    "# sns.barplot(high.maf, high.Heritability, hue=high.PCs, ax=ax2)\n",
    "# ax2.title.set_text(\"High LD\")"
   ]
  },
  {
   "cell_type": "code",
   "execution_count": null,
   "metadata": {},
   "outputs": [],
   "source": []
  },
  {
   "cell_type": "code",
   "execution_count": 9,
   "metadata": {},
   "outputs": [
    {
     "name": "stdout",
     "output_type": "stream",
     "text": [
      "\u001b[0;32m\u001b[0m*******************************************************************\n",
      "\u001b[0;32m\u001b[0m* Genome-wide Complex Trait Analysis (GCTA)\n",
      "\u001b[0;32m\u001b[0m* version 1.93.0 beta Linux\n",
      "\u001b[0;32m\u001b[0m* (C) 2010-2019, The University of Queensland\n",
      "\u001b[0;32m\u001b[0m* Please report bugs to Jian Yang <jian.yang@uq.edu.au>\n",
      "\u001b[0;32m\u001b[0m*******************************************************************\n",
      "\u001b[0;32mAnalysis started \u001b[0mat 15:45:09 UTC on Mon Aug 24 2020.\n",
      "\u001b[0;32m\u001b[0mHostname: biowulf.nih.gov\n",
      "\u001b[0;32m\u001b[0m\n",
      "Accepted options:\n",
      "--HEreg\n",
      "--mgrm multi_GRMs.merged_chrs.txt\n",
      "--pheno _keep.id\n",
      "--out test_hereg\n",
      "\n",
      "Note: This is a multi-thread program. You could specify the number of threads by the --thread-num option to speed up the computation if there are multiple processors in your machine.\n",
      "\n",
      "Reading IDs of the GRM from [freq.mafbin1.ldbin1.grm.id].\n",
      "9282 IDs read from [freq.mafbin1.ldbin1.grm.id].\n",
      "Reading IDs of the GRM from [freq.mafbin1.ldbin2.grm.id].\n",
      "9282 IDs read from [freq.mafbin1.ldbin2.grm.id].\n",
      "Reading IDs of the GRM from [freq.mafbin2.ldbin1.grm.id].\n",
      "9282 IDs read from [freq.mafbin2.ldbin1.grm.id].\n",
      "Reading IDs of the GRM from [freq.mafbin2.ldbin2.grm.id].\n",
      "9282 IDs read from [freq.mafbin2.ldbin2.grm.id].\n",
      "Reading phenotypes from [_keep.id].\n",
      "Non-missing phenotypes of 9282 individuals are included from [_keep.id].\n",
      "9282 individuals are in common in these files.\n",
      "\n",
      "Performing Haseman-Elston regression ...\n",
      "\n",
      "Standardising the phenotype ...\n",
      "Constructing ordinary least squares equations ...\n",
      "\n",
      "Left-hand side of OLS equations (X'X)\n",
      "4.30731e+07    -4679.44    -4684.22    -4679.26    -4680.94\n",
      "   -4679.44     3281.32     3251.49     3092.02     3137.16\n",
      "   -4684.22     3251.49     7571.92     3563.45      4920.6\n",
      "   -4679.26     3092.02     3563.45     4055.38     3199.97\n",
      "   -4680.94     3137.16      4920.6     3199.97     10608.5\n",
      "\n",
      "HE-CP\n",
      "Coefficient     Estimate        SE_OLS          SE_Jackknife    P_OLS           P_Jackknife     \n",
      "Intercept       1.37012e-06     0.000152355     1.4528e-05      0.992825        0.924863        \n",
      "V(G1)/Vp        0.528889        0.0346697       0.105717        1.52369e-52     5.64862e-07     \n",
      "V(G2)/Vp        0.225347        0.0163345       0.0458876       2.70335e-43     9.06843e-07     \n",
      "V(G3)/Vp        0.158929        0.0303651       0.0618359       1.65941e-07     0.0101649       \n",
      "V(G4)/Vp        0.0908723       0.0120776       0.0290752       5.31027e-14     0.0017755       \n",
      "Sum of V(G)/Vp  1.00404         0.0175468       0.134263        0               7.53858e-14     \n",
      "\n",
      "HE-SD\n",
      "Coefficient     Estimate        SE_OLS          SE_Jackknife    P_OLS           P_Jackknife     \n",
      "Intercept       -0.999891       0.000165952     0.00633765      0               0               \n",
      "V(G1)/Vp        0.532158        0.0377638       0.11359         4.26903e-45     2.80065e-06     \n",
      "V(G2)/Vp        0.226609        0.0177923       0.0487665       3.71274e-37     3.37083e-06     \n",
      "V(G3)/Vp        0.156462        0.033075        0.0649773       2.23952e-06     0.0160425       \n",
      "V(G4)/Vp        0.0902254       0.0131554       0.0305762       6.96298e-12     0.00316919      \n",
      "Sum of V(G)/Vp  1.00545         0.0191128       0.145839        0               5.41358e-12     \n",
      "\n",
      "Results from Haseman-Elston regression have been saved in [test_hereg.HEreg].\n",
      "\u001b[0;32m\u001b[0m\n",
      "\u001b[0;32mAnalysis finished \u001b[0mat 15:45:18 UTC on Mon Aug 24 2020\n",
      "Overall computational time: 8.48 sec.\n"
     ]
    }
   ],
   "source": [
    "# now, test with Haseman-Elston (HE) regression\n",
    "!gcta64 --HEreg --mgrm multi_GRMs.merged_chrs.txt --pheno _keep.id --out test_hereg"
   ]
  },
  {
   "cell_type": "code",
   "execution_count": null,
   "metadata": {},
   "outputs": [],
   "source": []
  },
  {
   "cell_type": "code",
   "execution_count": null,
   "metadata": {},
   "outputs": [],
   "source": []
  }
 ],
 "metadata": {
  "kernelspec": {
   "display_name": "python/3.7",
   "language": "python",
   "name": "py3.7"
  },
  "language_info": {
   "codemirror_mode": {
    "name": "ipython",
    "version": 3
   },
   "file_extension": ".py",
   "mimetype": "text/x-python",
   "name": "python",
   "nbconvert_exporter": "python",
   "pygments_lexer": "ipython3",
   "version": "3.7.5"
  }
 },
 "nbformat": 4,
 "nbformat_minor": 4
}
